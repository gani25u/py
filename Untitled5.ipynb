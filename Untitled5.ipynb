{
  "nbformat": 4,
  "nbformat_minor": 0,
  "metadata": {
    "colab": {
      "provenance": [],
      "authorship_tag": "ABX9TyMlNtThIHm2m7VU2BiE5qhb",
      "include_colab_link": true
    },
    "kernelspec": {
      "name": "python3",
      "display_name": "Python 3"
    },
    "language_info": {
      "name": "python"
    }
  },
  "cells": [
    {
      "cell_type": "markdown",
      "metadata": {
        "id": "view-in-github",
        "colab_type": "text"
      },
      "source": [
        "<a href=\"https://colab.research.google.com/github/gani25u/py/blob/main/Untitled5.ipynb\" target=\"_parent\"><img src=\"https://colab.research.google.com/assets/colab-badge.svg\" alt=\"Open In Colab\"/></a>"
      ]
    },
    {
      "cell_type": "code",
      "execution_count": 13,
      "metadata": {
        "colab": {
          "base_uri": "https://localhost:8080/"
        },
        "id": "NEZULrsebYWG",
        "outputId": "2151a41b-bbf3-4152-f92a-1574acb86301"
      },
      "outputs": [
        {
          "output_type": "stream",
          "name": "stdout",
          "text": [
            "First 3 days: [22 24 25]\n",
            "Full data: [22 24 25 23 26 28 27]\n"
          ]
        }
      ],
      "source": [
        "# Temperature Data Analysis\n",
        "import numpy as np\n",
        "weekly_temps = np.array([22, 24, 25, 23, 26, 28, 27])\n",
        "print(\"First 3 days:\", weekly_temps[:3])\n",
        "print(\"Full data:\", weekly_temps)"
      ]
    },
    {
      "cell_type": "code",
      "source": [
        "# 2. Sensor Data Simulation\n",
        "sensor_readings = np.array([[21.5, 22.0, np.nan, 23.1, 24.2, np.nan, 25.0],\n",
        "                            [20.0, np.nan, 21.5, 22.3, np.nan, 23.5, 24.0]])\n",
        "sensor_readings[np.isnan(sensor_readings)] = 0\n",
        "print(\"\\nSensor readings (NaN replaced with 0):\\n\", sensor_readings)"
      ],
      "metadata": {
        "colab": {
          "base_uri": "https://localhost:8080/"
        },
        "id": "SsfpuwnKbySQ",
        "outputId": "061ddc5e-17fc-496a-ade6-6b3fc8fe7cc7"
      },
      "execution_count": 14,
      "outputs": [
        {
          "output_type": "stream",
          "name": "stdout",
          "text": [
            "\n",
            "Sensor readings (NaN replaced with 0):\n",
            " [[21.5 22.   0.  23.1 24.2  0.  25. ]\n",
            " [20.   0.  21.5 22.3  0.  23.5 24. ]]\n"
          ]
        }
      ]
    },
    {
      "cell_type": "code",
      "source": [
        "\n",
        "# 3. Inventory Management\n",
        "product_ids = np.array([101, 105, 112, 108])\n",
        "all_bins = np.concatenate([product_ids, product_ids])\n",
        "print(\"\\nCombined bins:\", all_bins)"
      ],
      "metadata": {
        "colab": {
          "base_uri": "https://localhost:8080/"
        },
        "id": "nJUDzgucb3q2",
        "outputId": "d5c7ece3-1d3b-4a61-f4a2-84fe4ed8fc87"
      },
      "execution_count": 15,
      "outputs": [
        {
          "output_type": "stream",
          "name": "stdout",
          "text": [
            "\n",
            "Combined bins: [101 105 112 108 101 105 112 108]\n"
          ]
        }
      ]
    },
    {
      "cell_type": "code",
      "source": [
        "\n",
        "# 4. Quarterly Sales Report\n",
        "q1_sales = np.array([500, 520, 550])\n",
        "q2_sales = np.array([580, 600, 620])\n",
        "sales_report = np.vstack((q1_sales, q2_sales))\n",
        "print(\"\\nQuarterly Sales Report:\\n\", sales_report)"
      ],
      "metadata": {
        "colab": {
          "base_uri": "https://localhost:8080/"
        },
        "id": "pczQu6vJb-fd",
        "outputId": "cc852d37-8af7-492f-be8b-6b1329a9aee6"
      },
      "execution_count": 16,
      "outputs": [
        {
          "output_type": "stream",
          "name": "stdout",
          "text": [
            "\n",
            "Quarterly Sales Report:\n",
            " [[500 520 550]\n",
            " [580 600 620]]\n"
          ]
        }
      ]
    },
    {
      "cell_type": "code",
      "source": [
        "# 5. Finding High Performers\n",
        "scores = np.array([85, 92, 78, 88, 95, 76])\n",
        "high_scores = scores[scores >= 90]\n",
        "print(\"\\nHigh Performers (>=90):\", high_scores)"
      ],
      "metadata": {
        "colab": {
          "base_uri": "https://localhost:8080/"
        },
        "id": "vyJvpMnMcBvJ",
        "outputId": "79be0b5f-034a-4f0e-96d2-f2d1e2d43dac"
      },
      "execution_count": 17,
      "outputs": [
        {
          "output_type": "stream",
          "name": "stdout",
          "text": [
            "\n",
            "High Performers (>=90): [92 95]\n"
          ]
        }
      ]
    },
    {
      "cell_type": "code",
      "source": [
        "import pandas as pd\n",
        "import numpy as np\n",
        "\n",
        "# 1. Employee Data Retrieval\n",
        "data = {\n",
        "    'Name': ['Alice', 'Bob', 'Charlie'],\n",
        "    'Department': ['HR', 'Engineering', 'Sales'],\n",
        "    'Salary': [60000, 85000, 75000]\n",
        "}\n",
        "df = pd.DataFrame(data)\n",
        "print(\"\\nBob using loc:\\n\", df.loc[df['Name'] == 'Bob'])\n",
        "print(\"\\nBob using iloc:\\n\", df.iloc[1])"
      ],
      "metadata": {
        "colab": {
          "base_uri": "https://localhost:8080/"
        },
        "id": "vbBtNnH-cXbw",
        "outputId": "53ed082f-8181-42bc-b3af-1400a9e219ba"
      },
      "execution_count": 18,
      "outputs": [
        {
          "output_type": "stream",
          "name": "stdout",
          "text": [
            "\n",
            "Bob using loc:\n",
            "   Name   Department  Salary\n",
            "1  Bob  Engineering   85000\n",
            "\n",
            "Bob using iloc:\n",
            " Name                  Bob\n",
            "Department    Engineering\n",
            "Salary              85000\n",
            "Name: 1, dtype: object\n"
          ]
        }
      ]
    },
    {
      "cell_type": "code",
      "source": [
        "# 2. Combining Student Records\n",
        "freshmen = pd.DataFrame({'StudentID': [1, 2], 'Major': ['CS', 'Math']})\n",
        "sophomores = pd.DataFrame({'StudentID': [3, 4], 'Major': ['Physics', 'Chemistry']})\n",
        "all_students = pd.concat([freshmen, sophomores], ignore_index=True)\n",
        "print(\"\\nAll Students:\\n\", all_students)"
      ],
      "metadata": {
        "colab": {
          "base_uri": "https://localhost:8080/"
        },
        "id": "21HyNSMQcbEW",
        "outputId": "1c259d4f-8f64-4aba-e2e1-e91d8da724de"
      },
      "execution_count": 19,
      "outputs": [
        {
          "output_type": "stream",
          "name": "stdout",
          "text": [
            "\n",
            "All Students:\n",
            "    StudentID      Major\n",
            "0          1         CS\n",
            "1          2       Math\n",
            "2          3    Physics\n",
            "3          4  Chemistry\n"
          ]
        }
      ]
    },
    {
      "cell_type": "code",
      "source": [
        "# 3. Project Assignment\n",
        "projects = pd.DataFrame({'project_id': [1, 2, 3],\n",
        "                         'project_name': ['AI', 'Web Dev', 'Data Science']})\n",
        "employees = pd.DataFrame({'employee_id': [101, 102, 103],\n",
        "                          'project_id': [1, 3, 2]})\n",
        "merged = pd.merge(employees, projects, on='project_id')\n",
        "print(\"\\nEmployee Projects:\\n\", merged)"
      ],
      "metadata": {
        "colab": {
          "base_uri": "https://localhost:8080/"
        },
        "id": "_ucfIlO3cfIY",
        "outputId": "8a3ae77f-7fe8-4d58-e683-774ea85a60d2"
      },
      "execution_count": 11,
      "outputs": [
        {
          "output_type": "stream",
          "name": "stdout",
          "text": [
            "\n",
            "Employee Projects:\n",
            "    employee_id  project_id  project_name\n",
            "0          101           1            AI\n",
            "1          102           3  Data Science\n",
            "2          103           2       Web Dev\n"
          ]
        }
      ]
    },
    {
      "cell_type": "code",
      "source": [
        "\n",
        "# 4. Cleaning a Customer List\n",
        "customers = pd.DataFrame({\n",
        "    'Name': ['John', 'Jane', 'John', 'Mike'],\n",
        "    'Phone Number': ['12345', np.nan, '12345', np.nan]\n",
        "})\n",
        "customers_clean = customers.drop_duplicates()\n",
        "customers_clean['Phone Number'] = customers_clean['Phone Number'].fillna('Not Available')\n",
        "print(\"\\nCleaned Customer List:\\n\", customers_clean)"
      ],
      "metadata": {
        "colab": {
          "base_uri": "https://localhost:8080/"
        },
        "id": "gk4rzVm6ch4X",
        "outputId": "85d2878d-b3c4-49d9-b205-93f61d3a85ce"
      },
      "execution_count": 12,
      "outputs": [
        {
          "output_type": "stream",
          "name": "stdout",
          "text": [
            "\n",
            "Cleaned Customer List:\n",
            "    Name   Phone Number\n",
            "0  John          12345\n",
            "1  Jane  Not Available\n",
            "3  Mike  Not Available\n"
          ]
        },
        {
          "output_type": "stream",
          "name": "stderr",
          "text": [
            "/tmp/ipython-input-1917510079.py:7: SettingWithCopyWarning: \n",
            "A value is trying to be set on a copy of a slice from a DataFrame.\n",
            "Try using .loc[row_indexer,col_indexer] = value instead\n",
            "\n",
            "See the caveats in the documentation: https://pandas.pydata.org/pandas-docs/stable/user_guide/indexing.html#returning-a-view-versus-a-copy\n",
            "  customers_clean['Phone Number'] = customers_clean['Phone Number'].fillna('Not Available')\n"
          ]
        }
      ]
    },
    {
      "cell_type": "code",
      "source": [
        "\n",
        "# 5. Analyzing Sales by Region\n",
        "sales = pd.DataFrame({\n",
        "    'Region': ['East', 'West', 'East', 'North', 'South', 'East'],\n",
        "    'Revenue': [200, 150, 300, 100, 250, 400]\n",
        "})\n",
        "east_sales = sales[sales['Region'] == 'East']\n",
        "print(\"\\nEast Region Data:\\n\", east_sales)\n",
        "print(\"Total East Revenue:\", east_sales['Revenue'].sum())"
      ],
      "metadata": {
        "colab": {
          "base_uri": "https://localhost:8080/"
        },
        "id": "mqqj__ElclT6",
        "outputId": "e950456f-cd70-43b3-8e13-f7765ede045a"
      },
      "execution_count": 20,
      "outputs": [
        {
          "output_type": "stream",
          "name": "stdout",
          "text": [
            "\n",
            "East Region Data:\n",
            "   Region  Revenue\n",
            "0   East      200\n",
            "2   East      300\n",
            "5   East      400\n",
            "Total East Revenue: 900\n"
          ]
        }
      ]
    }
  ]
}