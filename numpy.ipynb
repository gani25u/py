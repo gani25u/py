{
  "nbformat": 4,
  "nbformat_minor": 0,
  "metadata": {
    "colab": {
      "provenance": [],
      "authorship_tag": "ABX9TyPrtln1Yu40XLXwEmrylOEG",
      "include_colab_link": true
    },
    "kernelspec": {
      "name": "python3",
      "display_name": "Python 3"
    },
    "language_info": {
      "name": "python"
    }
  },
  "cells": [
    {
      "cell_type": "markdown",
      "metadata": {
        "id": "view-in-github",
        "colab_type": "text"
      },
      "source": [
        "<a href=\"https://colab.research.google.com/github/gani25u/py/blob/main/numpy.ipynb\" target=\"_parent\"><img src=\"https://colab.research.google.com/assets/colab-badge.svg\" alt=\"Open In Colab\"/></a>"
      ]
    },
    {
      "cell_type": "code",
      "execution_count": 9,
      "metadata": {
        "colab": {
          "base_uri": "https://localhost:8080/"
        },
        "id": "vUxB-hqlyeON",
        "outputId": "c1669106-d3e9-46ea-d6a4-02e7c82c198c"
      },
      "outputs": [
        {
          "output_type": "stream",
          "name": "stdout",
          "text": [
            "Vector: [1 2 3 4 5]\n",
            "shape:(5,)\n",
            "data type:int64\n"
          ]
        }
      ],
      "source": [
        "import numpy as np\n",
        "a = np.array([1,2,3,4,5])\n",
        "print(f\"Vector: {a}\")\n",
        "print(f\"shape:{a.shape}\")\n",
        "print(f\"data type:{a.dtype}\")"
      ]
    },
    {
      "cell_type": "code",
      "source": [
        "import numpy as np\n",
        "def square_elements(arr):\n",
        "  return np.square(arr)\n",
        "\n",
        "my_array = np .array([1, 2, 3, 4, 5])\n",
        "squared_array = square_elements(my_array)\n",
        "\n",
        "print(\"Original Array:\", my_array)\n",
        "print(\"Squared Array:\", squared_array)"
      ],
      "metadata": {
        "colab": {
          "base_uri": "https://localhost:8080/"
        },
        "id": "6BXKSQPbz7d_",
        "outputId": "402e8cf5-fbd3-4194-c8f4-969dfd3accf4"
      },
      "execution_count": 16,
      "outputs": [
        {
          "output_type": "stream",
          "name": "stdout",
          "text": [
            "Original Array: [1 2 3 4 5]\n",
            "Squared Array: [ 1  4  9 16 25]\n"
          ]
        }
      ]
    },
    {
      "cell_type": "code",
      "source": [],
      "metadata": {
        "id": "x-ilQVjJ4DcG"
      },
      "execution_count": 16,
      "outputs": []
    }
  ]
}